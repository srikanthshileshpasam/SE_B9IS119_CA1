{
 "cells": [
  {
   "cell_type": "markdown",
   "metadata": {},
   "source": [
    "# Traffic Control System Code\n",
    "Software Engineering - CA\n",
    "\n",
    "For testing purposes the code will take manual inputs from the user but on deployment it will be changed to collecting the input from the sensors."
   ]
  },
  {
   "cell_type": "code",
   "execution_count": 10,
   "metadata": {},
   "outputs": [
    {
     "name": "stdout",
     "output_type": "stream",
     "text": [
      "Welcome to Dublin City Council - Traffic Control System\n",
      "This is a test program!\n",
      "Choose a number:\n",
      "1) Emergency vehicle approaching\n",
      "2) Pedestrian crossing\n",
      "3) High traffic volumes\n",
      "2\n",
      "\n",
      "Enter the lane in which the scenario is happening. Choose between 1-4.\n",
      "1\n",
      "\n",
      "Do you want additional scenarios? Choose a number\n",
      "1) Yes\n",
      "2) No\n",
      "1\n",
      "\n",
      "Choose a number:\n",
      "1) Emergency vehicle approaching\n",
      "2) Pedestrian crossing\n",
      "3) High traffic volumes\n",
      "5\n",
      "\n",
      "Choose a number:\n",
      "1) Emergency vehicle approaching\n",
      "2) Pedestrian crossing\n",
      "3) High traffic volumes\n",
      "3\n",
      "\n",
      "Enter the lane in which the scenario is happening. Choose between 1-4.\n",
      "5\n",
      "\n",
      "Enter the lane in which the scenario is happening. Choose between 1-4.\n",
      "6\n",
      "\n",
      "Enter the lane in which the scenario is happening. Choose between 1-4.\n",
      "-1\n",
      "\n",
      "Enter the lane in which the scenario is happening. Choose between 1-4.\n",
      "1\n",
      "\n",
      "Do you want additional scenarios? Choose a number\n",
      "1) Yes\n",
      "2) No\n",
      "2\n"
     ]
    }
   ],
   "source": [
    "scenario = []\n",
    "user_entry = 4\n",
    "lane_entry = 5\n",
    "add_scenario = True\n",
    "\n",
    "class TrafficControl:\n",
    "    def __init__(self, traffic_data):\n",
    "        self.traffic_data = traffic_data\n",
    "        \n",
    "while user_entry <= 0 or user_entry > 3:\n",
    "    user_entry = int(input('Welcome to Dublin City Council - Traffic Control System\\nThis is a test program!\\nChoose a number:\\n1) Emergency vehicle approaching\\n2) Pedestrian crossing\\n3) High traffic volumes\\n'))\n",
    "\n",
    "while lane_entry <= 0 or lane_entry > 4:\n",
    "    lane_entry = int(input('\\nEnter the lane in which the scenario is happening. Choose between 1-4.\\n'))\n",
    "scenario.append([user_entry, lane_entry])\n",
    "\n",
    "while (add_scenario == True) & (len(scenario) < 3):\n",
    "    choice = int(input('\\nDo you want additional scenarios? Choose a number\\n1) Yes\\n2) No\\n'))\n",
    "    \n",
    "    if choice == 1:\n",
    "        user_entry = 4\n",
    "        lane_entry = 5\n",
    "        while user_entry <= 0 or user_entry > 3:\n",
    "            user_entry = int(input('\\nChoose a number:\\n1) Emergency vehicle approaching\\n2) Pedestrian crossing\\n3) High traffic volumes\\n'))\n",
    "        while lane_entry <= 0 or lane_entry > 4:\n",
    "            lane_entry = int(input('\\nEnter the lane in which the scenario is happening. Choose between 1-4.\\n'))\n",
    "        scenario.append([user_entry, lane_entry])\n",
    "            \n",
    "    elif choice == 2:\n",
    "        add_scenario = False\n",
    "        \n",
    "    else:\n",
    "        print('\\nInvalid choice!')\n",
    "        add_scenario = False\n",
    "        \n",
    "tcs = TrafficControl()\n"
   ]
  },
  {
   "cell_type": "code",
   "execution_count": 11,
   "metadata": {},
   "outputs": [
    {
     "data": {
      "text/plain": [
       "[[2, 1], [3, 1]]"
      ]
     },
     "execution_count": 11,
     "metadata": {},
     "output_type": "execute_result"
    }
   ],
   "source": [
    "scenario"
   ]
  },
  {
   "cell_type": "code",
   "execution_count": 9,
   "metadata": {},
   "outputs": [
    {
     "data": {
      "text/plain": [
       "False"
      ]
     },
     "execution_count": 9,
     "metadata": {},
     "output_type": "execute_result"
    }
   ],
   "source": [
    "0 < -1"
   ]
  },
  {
   "cell_type": "code",
   "execution_count": null,
   "metadata": {},
   "outputs": [],
   "source": []
  }
 ],
 "metadata": {
  "kernelspec": {
   "display_name": "Python 3",
   "language": "python",
   "name": "python3"
  },
  "language_info": {
   "codemirror_mode": {
    "name": "ipython",
    "version": 3
   },
   "file_extension": ".py",
   "mimetype": "text/x-python",
   "name": "python",
   "nbconvert_exporter": "python",
   "pygments_lexer": "ipython3",
   "version": "3.7.4"
  }
 },
 "nbformat": 4,
 "nbformat_minor": 2
}
