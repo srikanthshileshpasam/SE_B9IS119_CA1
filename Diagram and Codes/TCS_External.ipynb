{
 "cells": [
  {
   "cell_type": "code",
   "execution_count": 3,
   "metadata": {},
   "outputs": [
    {
     "name": "stdout",
     "output_type": "stream",
     "text": [
      "Empty DataFrame\n",
      "Columns: [100, 11122019, RED, RED.1, TRUE, FALSE]\n",
      "Index: []\n",
      "['100', '11122019', 'RED', 'RED.1', 'TRUE', 'FALSE']\n",
      "2019-12-30 14:00:44.979903\n",
      "\n",
      "Alert!\n",
      "EVAS override of traffic signals!\n",
      "Changing all lanes to RED except for oncoming emergency vehicle.\n"
     ]
    }
   ],
   "source": [
    "import pandas\n",
    "from pandas import DataFrame\n",
    "from datetime import datetime\n",
    "\n",
    "\n",
    "\n",
    "import_csv = pandas.read_csv(r'/Users/srikanthshileshpasam/OneDrive - Dublin Business School (DBS)/Python/untitled.csv')\n",
    "print(import_csv)\n",
    "signal_data = import_csv.columns.tolist()\n",
    "print(signal_data)\n",
    "date_time = datetime.now()\n",
    "print(date_time)\n",
    "\n",
    "if signal_data[4] == 'TRUE':\n",
    "    #Emergency vehicle operation mode:\n",
    "    print('\\nAlert!\\nEVAS override of traffic signals!\\nChanging all lanes to RED except for oncoming emergency vehicle.')\n",
    "\n",
    "elif signal_data[5] == 'TRUE.1':\n",
    "    #Pedestrian operation mode:\n",
    "    print('\\nPedestrian Crossing the lane.')\n",
    "\n",
    "else:\n",
    "    #Normal vehicle operation mode from red to green:\n",
    "    if signal_data[2] == 'RED' and signal_data[3] == 'GREEN':\n",
    "        print('\\nChanging lane to green.')\n",
    "        \n",
    "    #Normal vehicle operation mode from green to red:\n",
    "    elif signal_data[2] == 'GREEN' and signal_data[3] == 'RED':\n",
    "        print('\\nChanging lane to red.')\n",
    "        \n",
    "    else:\n",
    "        #In case an error, creating an error log file for reference:\n",
    "        print('\\nInvalid code.\\nError!\\nCreating error log.')\n",
    "        signal_data[1] = date_time\n",
    "        error_log = pandas.DataFrame(signal_data, columns = ['Error logged at signal.'])\n",
    "        print(error_log)"
   ]
  },
  {
   "cell_type": "code",
   "execution_count": null,
   "metadata": {},
   "outputs": [],
   "source": []
  },
  {
   "cell_type": "code",
   "execution_count": null,
   "metadata": {},
   "outputs": [],
   "source": []
  }
 ],
 "metadata": {
  "kernelspec": {
   "display_name": "Python 3",
   "language": "python",
   "name": "python3"
  },
  "language_info": {
   "codemirror_mode": {
    "name": "ipython",
    "version": 3
   },
   "file_extension": ".py",
   "mimetype": "text/x-python",
   "name": "python",
   "nbconvert_exporter": "python",
   "pygments_lexer": "ipython3",
   "version": "3.7.4"
  }
 },
 "nbformat": 4,
 "nbformat_minor": 2
}
