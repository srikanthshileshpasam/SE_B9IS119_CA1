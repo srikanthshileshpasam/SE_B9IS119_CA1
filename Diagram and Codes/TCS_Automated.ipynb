{
 "cells": [
  {
   "cell_type": "code",
   "execution_count": null,
   "metadata": {},
   "outputs": [
    {
     "name": "stdout",
     "output_type": "stream",
     "text": [
      "Traffic in lane 1 is: 7 vehicles/sec.\n",
      "Traffic in lane 2 is: 9 vehicles/sec.\n",
      "Traffic in lane 3 is: 4 vehicles/sec.\n",
      "Traffic in lane 4 is: 7 vehicles/sec.\n",
      "\n",
      "Lane 1 changes to green while other lanes are in red\n",
      "['Green', 'Red', 'Red', 'Red']\n",
      "\n",
      "Green for 8 seconds\n",
      "Green for 7 seconds\n",
      "Green for 6 seconds\n",
      "Green for 5 seconds\n",
      "Green for 4 seconds\n",
      "Green for 3 seconds\n",
      "Green for 2 seconds\n"
     ]
    }
   ],
   "source": [
    "import random\n",
    "import time\n",
    "\n",
    "traffic_lane = []\n",
    "\n",
    "class TrafficData:\n",
    "    def __init__(self):\n",
    "        pass\n",
    "    \n",
    "    def road_sensor():\n",
    "        for k in range(0,4):\n",
    "            traffic_lane.append(random.randint(1,10))\n",
    "        return traffic_lane\n",
    "\n",
    "    \n",
    "tcs = TrafficData\n",
    "tcs.road_sensor()\n",
    "for k in range(0,4):\n",
    "    print(f'Traffic in lane {k+1} is: {traffic_lane[k]} vehicles/sec.')\n",
    "    \n",
    "    \n",
    "for j in range(0,4):\n",
    "    signal = ['Red', 'Red', 'Red', 'Red']\n",
    "    timer_lane = traffic_lane[j] + 1\n",
    "    signal[j] = 'Green'\n",
    "    print(f'\\nLane {j+1} changes to green while other lanes are in red\\n{signal}\\n')\n",
    "        \n",
    "    for i in range(0, timer_lane):\n",
    "        print(f'Green for {timer_lane - i} seconds')\n",
    "        time.sleep(1)\n",
    "\n"
   ]
  },
  {
   "cell_type": "code",
   "execution_count": 62,
   "metadata": {},
   "outputs": [
    {
     "data": {
      "text/plain": [
       "[]"
      ]
     },
     "execution_count": 62,
     "metadata": {},
     "output_type": "execute_result"
    }
   ],
   "source": [
    "traffic_lane"
   ]
  },
  {
   "cell_type": "code",
   "execution_count": null,
   "metadata": {},
   "outputs": [],
   "source": []
  }
 ],
 "metadata": {
  "kernelspec": {
   "display_name": "Python 3",
   "language": "python",
   "name": "python3"
  },
  "language_info": {
   "codemirror_mode": {
    "name": "ipython",
    "version": 3
   },
   "file_extension": ".py",
   "mimetype": "text/x-python",
   "name": "python",
   "nbconvert_exporter": "python",
   "pygments_lexer": "ipython3",
   "version": "3.7.4"
  }
 },
 "nbformat": 4,
 "nbformat_minor": 2
}
