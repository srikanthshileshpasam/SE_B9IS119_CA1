{
 "cells": [
  {
   "cell_type": "code",
   "execution_count": 92,
   "metadata": {},
   "outputs": [
    {
     "name": "stdout",
     "output_type": "stream",
     "text": [
      "Which lane is the emergency vehicle approaching on? Choose between 1 to 4.\n",
      "2\n",
      "Alert!\n",
      "EVAS override of traffic signals!\n",
      "Changing all lanes to RED except for oncoming emergency vehicle in lane 2\n",
      "['Red', 'Green', 'Red', 'Red']\n"
     ]
    }
   ],
   "source": [
    "import random\n",
    "import time\n",
    "\n",
    "pedestrian_click = True\n",
    "emergency = True\n",
    "\n",
    "class TrafficData:\n",
    "    def __init__(self):\n",
    "        pass\n",
    "    \n",
    "    def road_sensor():\n",
    "        traffic_lane = []\n",
    "        for k in range(0,4):\n",
    "            traffic_lane.append(random.randint(1,10))\n",
    "        return traffic_lane\n",
    "    \n",
    "    def evas():\n",
    "        ev = 5\n",
    "        while ev <=0 or ev > 4:\n",
    "            ev = int(input('Which lane is the emergency vehicle approaching on? Choose between 1 to 4.\\n'))\n",
    "        return ev\n",
    "    \n",
    "    def pedestrian():\n",
    "        pass\n",
    "\n",
    "\n",
    "class TrafficControl:\n",
    "    def __init__(self, traffic_flow):\n",
    "        self.traffic_flow = traffic_flow\n",
    "    \n",
    "    def normal_traffic(self):        \n",
    "        for j in range(0,4):\n",
    "            signal = ['Red', 'Red', 'Red', 'Red']\n",
    "            timer_lane = self.traffic_flow[j] + 1\n",
    "            signal[j] = 'Green'\n",
    "            print(f'\\nLane {j+1} changes to green while other lanes are in red\\n{signal}\\n')\n",
    "\n",
    "            for i in range(0, timer_lane):\n",
    "                print(f'Green for {timer_lane - i} seconds')\n",
    "                time.sleep(1)\n",
    "                \n",
    "    def evas_alert(self, incoming_lane):\n",
    "        self.incoming_lane = incoming_lane\n",
    "        signal = ['Red', 'Red', 'Red', 'Red']\n",
    "        signal[incoming_lane-1] = 'Green'\n",
    "        return signal\n",
    "        \n",
    "\n",
    "traffic_data = TrafficData\n",
    "road_sensor_data = traffic_data.road_sensor()\n",
    "tcs = TrafficControl(road_sensor_data)\n",
    "\n",
    "if emergency == True:\n",
    "    #Emergency vehicle operation mode:\n",
    "    emergency_lane = traffic_data.evas()\n",
    "    traffic = tcs.evas_alert(emergency_lane)\n",
    "    print(f'Alert!\\nEVAS override of traffic signals!\\nChanging all lanes to RED except for oncoming emergency vehicle in lane {emergency_lane}\\n{traffic}')\n",
    "\n",
    "elif pedestrian_click == True:\n",
    "    print('Ped')\n",
    "\n",
    "else:\n",
    "    #Normal traffic operation mode:\n",
    "    for k in range(0,4):\n",
    "        print(f'Traffic in lane {k+1} is: {road_sensor_data[k]} vehicles/sec.')\n",
    "    traffic = tcs.normal_traffic()"
   ]
  },
  {
   "cell_type": "code",
   "execution_count": 77,
   "metadata": {},
   "outputs": [
    {
     "data": {
      "text/plain": [
       "[7, 6, 5, 9, 6, 9, 5, 9]"
      ]
     },
     "execution_count": 77,
     "metadata": {},
     "output_type": "execute_result"
    }
   ],
   "source": [
    "traffic_lane"
   ]
  },
  {
   "cell_type": "code",
   "execution_count": null,
   "metadata": {},
   "outputs": [],
   "source": []
  }
 ],
 "metadata": {
  "kernelspec": {
   "display_name": "Python 3",
   "language": "python",
   "name": "python3"
  },
  "language_info": {
   "codemirror_mode": {
    "name": "ipython",
    "version": 3
   },
   "file_extension": ".py",
   "mimetype": "text/x-python",
   "name": "python",
   "nbconvert_exporter": "python",
   "pygments_lexer": "ipython3",
   "version": "3.7.4"
  }
 },
 "nbformat": 4,
 "nbformat_minor": 2
}
