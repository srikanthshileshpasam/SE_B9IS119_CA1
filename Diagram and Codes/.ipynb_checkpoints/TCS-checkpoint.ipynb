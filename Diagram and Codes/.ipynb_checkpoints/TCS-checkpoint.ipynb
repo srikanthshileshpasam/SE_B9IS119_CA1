{
 "cells": [
  {
   "cell_type": "markdown",
   "metadata": {},
   "source": [
    "# Traffic Control System Code\n",
    "Software Engineering - CA"
   ]
  },
  {
   "cell_type": "code",
   "execution_count": 52,
   "metadata": {},
   "outputs": [
    {
     "name": "stdout",
     "output_type": "stream",
     "text": [
      "Welcome to Dublin City Council - Traffic Control System\n",
      "This is a test program!\n",
      "Choose a number:\n",
      "1) Emergency vehicle approaching\n",
      "2) Pedestrian crossing\n",
      "3) High traffic volumes\n",
      "1\n",
      "\n",
      "Do you want additional scenarios? Choose a number\n",
      "1) Yes\n",
      "2) No\n",
      "1\n",
      "\n",
      "Choose a number:\n",
      "1) Emergency vehicle approaching\n",
      "2) Pedestrian crossing\n",
      "3) High traffic volumes\n",
      "2\n",
      "\n",
      "Do you want additional scenarios? Choose a number\n",
      "1) Yes\n",
      "2) No\n",
      "2\n"
     ]
    }
   ],
   "source": [
    "scenario = []\n",
    "user_entry = 4\n",
    "add_scenario = True\n",
    "\n",
    "class TrafficControl:\n",
    "    def __init__(self):\n",
    "        pass\n",
    "        \n",
    "while user_entry > 3:\n",
    "    user_entry = int(input('Welcome to Dublin City Council - Traffic Control System\\nThis is a test program!\\nChoose a number:\\n1) Emergency vehicle approaching\\n2) Pedestrian crossing\\n3) High traffic volumes\\n'))\n",
    "scenario.append(user_entry)\n",
    "\n",
    "while (add_scenario == True) & (len(scenario) < 3):\n",
    "    choice = int(input('\\nDo you want additional scenarios? Choose a number\\n1) Yes\\n2) No\\n'))\n",
    "    \n",
    "    if choice == 1:\n",
    "        user_entry = 4\n",
    "        while user_entry > 3:\n",
    "            user_entry = int(input('\\nChoose a number:\\n1) Emergency vehicle approaching\\n2) Pedestrian crossing\\n3) High traffic volumes\\n'))\n",
    "        scenario.append(user_entry)\n",
    "        \n",
    "    elif choice == 2:\n",
    "        add_scenario = False\n",
    "        \n",
    "    else:\n",
    "        print('\\nInvalid choice!')\n",
    "        add_scenario = False"
   ]
  },
  {
   "cell_type": "code",
   "execution_count": 53,
   "metadata": {},
   "outputs": [
    {
     "data": {
      "text/plain": [
       "[1, 2]"
      ]
     },
     "execution_count": 53,
     "metadata": {},
     "output_type": "execute_result"
    }
   ],
   "source": [
    "scenario"
   ]
  },
  {
   "cell_type": "code",
   "execution_count": null,
   "metadata": {},
   "outputs": [],
   "source": []
  }
 ],
 "metadata": {
  "kernelspec": {
   "display_name": "Python 3",
   "language": "python",
   "name": "python3"
  },
  "language_info": {
   "codemirror_mode": {
    "name": "ipython",
    "version": 3
   },
   "file_extension": ".py",
   "mimetype": "text/x-python",
   "name": "python",
   "nbconvert_exporter": "python",
   "pygments_lexer": "ipython3",
   "version": "3.7.4"
  }
 },
 "nbformat": 4,
 "nbformat_minor": 2
}
