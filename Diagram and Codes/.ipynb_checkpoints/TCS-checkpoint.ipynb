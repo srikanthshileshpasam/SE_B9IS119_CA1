{
 "cells": [
  {
   "cell_type": "markdown",
   "metadata": {},
   "source": [
    "# Traffic Control System Code\n",
    "Software Engineering - CA\n",
    "\n",
    "For testing purposes the code will take manual inputs from the user but on deployment it will be changed to collecting the input from the sensors."
   ]
  },
  {
   "cell_type": "code",
   "execution_count": 48,
   "metadata": {},
   "outputs": [
    {
     "name": "stdout",
     "output_type": "stream",
     "text": [
      "Welcome to Dublin City Council - Traffic Control System\n",
      "This is a test program!\n",
      "Choose a number:\n",
      "a) Emergency vehicle approaching\n",
      "b) Pedestrian crossing\n",
      "c) High traffic volumes\n",
      "a\n",
      "\n",
      "Enter the lane in which the scenario is happening. Choose between 1-4.\n",
      "1\n",
      "\n",
      "Do you want additional scenarios? Choose a number\n",
      "1) Yes\n",
      "2) No\n",
      "2\n",
      "\n",
      "Traffic flow status:\n",
      "[None, 'GREEN', 'GREEN', 'GREEN', 'RED']\n",
      "\n",
      "Traffic flow status:\n",
      "[None, 'GREEN', 'GREEN', 'GREEN', 'RED']\n"
     ]
    }
   ],
   "source": [
    "scenario = []\n",
    "user_entry = 'z'\n",
    "lane_entry = 5\n",
    "add_scenario = True\n",
    "\n",
    "\n",
    "def priority():\n",
    "    for i in range(len(scenario)):\n",
    "        #print(scenario[i])\n",
    "        for j in scenario[i]:\n",
    "            #print(j)\n",
    "            if j == 'a':\n",
    "                #print(scenario[i])\n",
    "                tcs.evas(scenario[i])\n",
    "            elif j == 'b':\n",
    "                tcs.pedestrian(scenario[i])\n",
    "            else:\n",
    "                tcs.traffic(scenario[i])                \n",
    "                \n",
    "\n",
    "class TrafficControl:\n",
    "    lane_timer = 10\n",
    "    pedestrian_timer = 5\n",
    "    \n",
    "    def __init__(self):\n",
    "        pass\n",
    "    \n",
    "    def evas(self, evas_data):\n",
    "        lane = [None, 'RED', 'RED', 'RED', 'RED']\n",
    "        self.evas_data = evas_data\n",
    "        lane[evas_data[1]] = 'GREEN'\n",
    "        #print(lane)\n",
    "        return lane\n",
    "    \n",
    "    def pedestrian(self, pedestrian_data):\n",
    "        lane = [None, 'RED', 'RED', 'RED', 'RED']\n",
    "        self.pedestrian_data = pedestrian_data\n",
    "        stop_lane = pedestrian_data[1]\n",
    "        if stop_lane % 2 == 0:\n",
    "            lane[1] = 'GREEN'\n",
    "            lane[3] = 'GREEN'\n",
    "        else:\n",
    "            lane[2] = 'GREEN'\n",
    "            lane[4] = 'GREEN'\n",
    "        #print(lane)\n",
    "        return lane\n",
    "    \n",
    "    def traffic(self, traffic_data):\n",
    "        lane = [None, 'RED', 'RED', 'RED', 'RED']\n",
    "        self.traffic_data = traffic_data\n",
    "        lane[traffic_data[1]] = 'GREEN'\n",
    "        #print(lane)\n",
    "        return lane\n",
    "\n",
    "\n",
    "                \n",
    "        \n",
    "while user_entry != 'a' and user_entry != 'b' and user_entry != 'c':\n",
    "    user_entry = input('Welcome to Dublin City Council - Traffic Control System\\nThis is a test program!\\nChoose a number:\\na) Emergency vehicle approaching\\nb) Pedestrian crossing\\nc) High traffic volumes\\n')\n",
    "\n",
    "while lane_entry <= 0 or lane_entry > 4:\n",
    "    lane_entry = int(input('\\nEnter the lane in which the scenario is happening. Choose between 1-4.\\n'))\n",
    "scenario.append([user_entry, lane_entry])\n",
    "\n",
    "while (add_scenario == True) & (len(scenario) < 3):\n",
    "    choice = int(input('\\nDo you want additional scenarios? Choose a number\\n1) Yes\\n2) No\\n'))\n",
    "    \n",
    "    if choice == 1:\n",
    "        user_entry = 'z'\n",
    "        lane_entry = 5\n",
    "        while user_entry != 'a' and user_entry != 'b' and user_entry != 'c':\n",
    "            user_entry = input('\\nChoose a number:\\na) Emergency vehicle approaching\\nb) Pedestrian crossing\\nc) High traffic volumes\\n')\n",
    "        while lane_entry <= 0 or lane_entry > 4:\n",
    "            lane_entry = int(input('\\nEnter the lane in which the scenario is happening. Choose between 1-4.\\n'))\n",
    "        scenario.append([user_entry, lane_entry])\n",
    "            \n",
    "    elif choice == 2:\n",
    "        add_scenario = False\n",
    "        \n",
    "    else:\n",
    "        print('\\nInvalid choice!')\n",
    "        add_scenario = False\n",
    "\n",
    "        \n",
    "tcs = TrafficControl()\n",
    "priority()\n"
   ]
  },
  {
   "cell_type": "code",
   "execution_count": 40,
   "metadata": {},
   "outputs": [
    {
     "data": {
      "text/plain": [
       "[['b', 2], ['a', 1]]"
      ]
     },
     "execution_count": 40,
     "metadata": {},
     "output_type": "execute_result"
    }
   ],
   "source": [
    "scenario"
   ]
  },
  {
   "cell_type": "code",
   "execution_count": null,
   "metadata": {},
   "outputs": [],
   "source": []
  },
  {
   "cell_type": "code",
   "execution_count": null,
   "metadata": {},
   "outputs": [],
   "source": []
  }
 ],
 "metadata": {
  "kernelspec": {
   "display_name": "Python 3",
   "language": "python",
   "name": "python3"
  },
  "language_info": {
   "codemirror_mode": {
    "name": "ipython",
    "version": 3
   },
   "file_extension": ".py",
   "mimetype": "text/x-python",
   "name": "python",
   "nbconvert_exporter": "python",
   "pygments_lexer": "ipython3",
   "version": "3.7.4"
  }
 },
 "nbformat": 4,
 "nbformat_minor": 2
}
